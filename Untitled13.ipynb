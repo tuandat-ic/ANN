# ====================================
# 1. TRAINING MODEL
# ====================================
import numpy as np
import pandas as pd
import matplotlib.pyplot as plt
from keras.models import Sequential, load_model
from keras.layers import Dense
from sklearn.model_selection import train_test_split
from sklearn.preprocessing import StandardScaler, LabelEncoder
from sklearn.metrics import mean_absolute_percentage_error

import tensorflow as tf
from tensorflow import keras

# Tải dữ liệu Abalone
url = "https://archive.ics.uci.edu/ml/machine-learning-databases/abalone/abalone.data"
columns = ['Sex','Length','Diameter','Height','WholeWeight',
           'ShuckedWeight','VisceraWeight','ShellWeight','Rings']
df = pd.read_csv(url, names=columns)

# Tiền xử lý dữ liệu
le = LabelEncoder()
df['Sex'] = le.fit_transform(df['Sex'])

X = df.drop("Rings", axis=1).values
y = df["Rings"].values

# Chuẩn hóa dữ liệu
scaler = StandardScaler()
X = scaler.fit_transform(X)

# Chia train/test
X_train, X_test, y_train, y_test = train_test_split(
    X, y, test_size=0.2, random_state=42
)

# Xây dựng mô hình ANN
model = Sequential([
    Dense(64, activation='relu', input_shape=(X_train.shape[1],)),
    Dense(32, activation='relu'),
    Dense(1)
])

# Compile
model.compile(optimizer='adam', loss='mse', metrics=['mae'])

# Huấn luyện
history = model.fit(X_train, y_train,
                    epochs=5,   # có thể tăng lên 50 cho kết quả tốt hơn
                    batch_size=32,
                    validation_data=(X_test, y_test),
                    verbose=1)

# Đánh giá
loss, mae = model.evaluate(X_test, y_test, verbose=0)
y_pred = model.predict(X_test).flatten()

mape = mean_absolute_percentage_error(y_test, y_pred)
accuracy = 100 - mape*100

print(f"\nTest Loss (MSE): {loss:.4f}")
print(f"Test MAE: {mae:.4f}")
print(f"MAPE: {mape*100:.2f}%")
print(f"Độ chính xác ước tính: {accuracy:.2f}%")

# Vẽ biểu đồ Loss và MAE
plt.figure(figsize=(12,5))

plt.subplot(1,2,1)
plt.plot(history.history['loss'], label="Train Loss")
plt.plot(history.history['val_loss'], label="Val Loss")
plt.xlabel("Epochs")
plt.ylabel("MSE")
plt.title("Loss (MSE)")
plt.legend()

plt.subplot(1,2,2)
plt.plot(history.history['mae'], label="Train MAE")
plt.plot(history.history['val_mae'], label="Val MAE")
plt.xlabel("Epochs")
plt.ylabel("MAE")
plt.title("MAE")
plt.legend()

plt.show()

# Lưu model
model.save('final_model.keras')

# Nạp lại model đã lưu (đảm bảo có biến model)
model = load_model('final_model.keras')

# ====================================
# 2. GIAO DIỆN PREDICTION (KHÔNG CÓ HÌNH)
# ====================================
import ipywidgets as widgets
from IPython.display import display, HTML

# Widgets nhập liệu
sex_dropdown = widgets.Dropdown(
    options=[('Male (M)', 2), ('Female (F)', 0), ('Infant (I)', 1)],
    value=2, description=''
)
length = widgets.FloatText(value=0.5, description='')
diameter = widgets.FloatText(value=0.4, description='')
height = widgets.FloatText(value=0.1, description='')
whole = widgets.FloatText(value=0.8, description='')
shucked = widgets.FloatText(value=0.4, description='')
viscera = widgets.FloatText(value=0.2, description='')
shell = widgets.FloatText(value=0.3, description='')

predict_button = widgets.Button(description="🔮 Predict", button_style='success')
output_ring = widgets.Output()
output_age = widgets.Output()

# Hàm dự đoán
def on_predict_clicked(b):
    with output_ring, output_age:
        output_ring.clear_output()
        output_age.clear_output()
        features = np.array([[sex_dropdown.value,length.value,diameter.value,
                              height.value,whole.value,shucked.value,
                              viscera.value,shell.value]])
        if 'scaler' not in globals() or 'model' not in globals():
            display(HTML("<p style='color:red;'>Error: Run training cell first!</p>"))
            return
        features_scaled = scaler.transform(features)
        pred_ring = model.predict(features_scaled, verbose=0)[0][0]
        pred_age = pred_ring + 1.5

        with output_ring:
            display(HTML(f"""
            <div style="background:#C97BA6; color:white; padding:12px;
                        border-radius:8px; text-align:center; width:160px; margin-bottom:10px;">
                <b>Ring:</b> {pred_ring:.2f}
            </div>
            """))
        with output_age:
            display(HTML(f"""
            <div style="background:#C97BA6; color:white; padding:12px;
                        border-radius:8px; text-align:center; width:200px;">
                <b>Age = Ring + 1.5:</b> {pred_age:.2f} years
            </div>
            """))

predict_button.on_click(on_predict_clicked)

# Bố cục giao diện
display(HTML("<h2 style='text-align:center;'>PREDICTION OF ABALONE AGE</h2>"))

ui = widgets.HBox([
    # Cột trái: input
    widgets.VBox([
        widgets.HTML("<div style='background:#71828A; color:white; padding:6px; border-radius:6px; width:160px; text-align:center;'>Sex</div>"),
        sex_dropdown,
        widgets.HTML("<div style='background:#71828A; color:white; padding:6px; border-radius:6px; width:160px; text-align:center;'>Length</div>"),
        length,
        widgets.HTML("<div style='background:#71828A; color:white; padding:6px; border-radius:6px; width:160px; text-align:center;'>Diameter</div>"),
        diameter,
        widgets.HTML("<div style='background:#71828A; color:white; padding:6px; border-radius:6px; width:160px; text-align:center;'>Height</div>"),
        height,
        widgets.HTML("<div style='background:#71828A; color:white; padding:6px; border-radius:6px; width:160px; text-align:center;'>Whole weight</div>"),
        whole,
        widgets.HTML("<div style='background:#71828A; color:white; padding:6px; border-radius:6px; width:160px; text-align:center;'>Shucked weight</div>"),
        shucked,
        widgets.HTML("<div style='background:#71828A; color:white; padding:6px; border-radius:6px; width:160px; text-align:center;'>Viscera weight</div>"),
        viscera,
        widgets.HTML("<div style='background:#71828A; color:white; padding:6px; border-radius:6px; width:160px; text-align:center;'>Shell weight</div>"),
        shell,
        predict_button,
        widgets.HTML("<div style='margin-top:20px; font-size:14px; text-align:left;'>"
                     "<b>Nhóm 5:</b> Đặng Phạm Tuấn Đạt, ICA K50</div>")
    ], layout=widgets.Layout(margin="20px")),
    
    # Cột phải: prediction
    widgets.VBox([
        output_ring,
        output_age
    ], layout=widgets.Layout(margin="20px"))
])

display(ui)
